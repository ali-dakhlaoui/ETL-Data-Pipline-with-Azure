{
 "cells": [
  {
   "cell_type": "code",
   "execution_count": null,
   "metadata": {
    "application/vnd.databricks.v1+cell": {
     "cellMetadata": {
      "byteLimit": 2048000,
      "rowLimit": 10000
     },
     "inputWidgets": {},
     "nuid": "4fd47acd-a00f-49e9-9236-9590a9dbcac4",
     "showTitle": false,
     "title": ""
    }
   },
   "outputs": [
    {
     "name": "stdout",
     "output_type": "stream",
     "text": [
      "Error mounting storage: Unsupported Azure Scheme: abfss\n",
      "Error listing contents of mount point: An error occurred while calling o1923.ls.\n",
      ": java.io.FileNotFoundException: Operation failed: \"The specified path does not exist.\", 404, GET, https://dbstoragekt7zpnrndjfbm.dfs.core.windows.net/root?upn=false&resource=filesystem&maxResults=5000&directory=3109534669391467/mnt/tokyoolympic&timeout=90&recursive=false&sig=XXXXX&st=2024-07-02T17:03:51Z&se=2024-07-03T13:03:51Z&sv=2019-02-02&spr=https&sp=racwdl&sr=c, PathNotFound, \"The specified path does not exist. RequestId:f55de7aa-b01f-0099-06ab-cc9ed0000000 Time:2024-07-02T18:16:29.2592581Z\"\n",
      "\tat shaded.databricks.azurebfs.org.apache.hadoop.fs.azurebfs.AzureBlobFileSystem.checkException(AzureBlobFileSystem.java:1563)\n",
      "\tat shaded.databricks.azurebfs.org.apache.hadoop.fs.azurebfs.AzureBlobFileSystem.listStatus(AzureBlobFileSystem.java:625)\n",
      "\tat com.databricks.common.filesystem.LokiFileSystem.listStatus(LokiFileSystem.scala:132)\n",
      "\tat com.databricks.backend.daemon.data.client.DBFSV2.$anonfun$listStatus$2(DatabricksFileSystemV2.scala:126)\n",
      "\tat com.databricks.s3a.S3AExceptionUtils$.convertAWSExceptionToJavaIOException(DatabricksStreamUtils.scala:66)\n",
      "\tat com.databricks.backend.daemon.data.client.DBFSV2.$anonfun$listStatus$1(DatabricksFileSystemV2.scala:123)\n",
      "\tat com.databricks.logging.UsageLogging.$anonfun$recordOperation$1(UsageLogging.scala:560)\n",
      "\tat com.databricks.logging.UsageLogging.executeThunkAndCaptureResultTags$1(UsageLogging.scala:657)\n",
      "\tat com.databricks.logging.UsageLogging.$anonfun$recordOperationWithResultTags$4(UsageLogging.scala:678)\n",
      "\tat com.databricks.logging.UsageLogging.$anonfun$withAttributionContext$1(UsageLogging.scala:414)\n",
      "\tat scala.util.DynamicVariable.withValue(DynamicVariable.scala:62)\n",
      "\tat com.databricks.logging.AttributionContext$.withValue(AttributionContext.scala:158)\n",
      "\tat com.databricks.logging.UsageLogging.withAttributionContext(UsageLogging.scala:412)\n",
      "\tat com.databricks.logging.UsageLogging.withAttributionContext$(UsageLogging.scala:409)\n",
      "\tat com.databricks.backend.daemon.data.client.DatabricksFileSystemV2.withAttributionContext(DatabricksFileSystemV2.scala:625)\n",
      "\tat com.databricks.logging.UsageLogging.withAttributionTags(UsageLogging.scala:457)\n",
      "\tat com.databricks.logging.UsageLogging.withAttributionTags$(UsageLogging.scala:442)\n",
      "\tat com.databricks.backend.daemon.data.client.DatabricksFileSystemV2.withAttributionTags(DatabricksFileSystemV2.scala:625)\n",
      "\tat com.databricks.logging.UsageLogging.recordOperationWithResultTags(UsageLogging.scala:652)\n",
      "\tat com.databricks.logging.UsageLogging.recordOperationWithResultTags$(UsageLogging.scala:569)\n",
      "\tat com.databricks.backend.daemon.data.client.DatabricksFileSystemV2.recordOperationWithResultTags(DatabricksFileSystemV2.scala:625)\n",
      "\tat com.databricks.logging.UsageLogging.recordOperation(UsageLogging.scala:560)\n",
      "\tat com.databricks.logging.UsageLogging.recordOperation$(UsageLogging.scala:528)\n",
      "\tat com.databricks.backend.daemon.data.client.DatabricksFileSystemV2.recordOperation(DatabricksFileSystemV2.scala:625)\n",
      "\tat com.databricks.backend.daemon.data.client.DBFSV2.listStatus(DatabricksFileSystemV2.scala:123)\n",
      "\tat com.databricks.backend.daemon.data.client.DatabricksFileSystem.listStatus(DatabricksFileSystem.scala:161)\n",
      "\tat com.databricks.backend.daemon.dbutils.FSUtils.lsWithLimit(DBUtilsCore.scala:274)\n",
      "\tat com.databricks.backend.daemon.dbutils.FSUtils.$anonfun$lsImpl$4(DBUtilsCore.scala:243)\n",
      "\tat com.databricks.backend.daemon.dbutils.FSUtils.withFsSafetyCheck(DBUtilsCore.scala:149)\n",
      "\tat com.databricks.backend.daemon.dbutils.FSUtils.$anonfun$lsImpl$3(DBUtilsCore.scala:243)\n",
      "\tat com.databricks.backend.daemon.dbutils.FSUtils.checkPermission(DBUtilsCore.scala:144)\n",
      "\tat com.databricks.backend.daemon.dbutils.FSUtils.lsImpl(DBUtilsCore.scala:242)\n",
      "\tat com.databricks.backend.daemon.dbutils.FSUtils.$anonfun$ls$1(DBUtilsCore.scala:215)\n",
      "\tat com.databricks.logging.UsageLogging.$anonfun$recordOperation$1(UsageLogging.scala:560)\n",
      "\tat com.databricks.logging.UsageLogging.executeThunkAndCaptureResultTags$1(UsageLogging.scala:657)\n",
      "\tat com.databricks.logging.UsageLogging.$anonfun$recordOperationWithResultTags$4(UsageLogging.scala:678)\n",
      "\tat com.databricks.logging.UsageLogging.$anonfun$withAttributionContext$1(UsageLogging.scala:414)\n",
      "\tat scala.util.DynamicVariable.withValue(DynamicVariable.scala:62)\n",
      "\tat com.databricks.logging.AttributionContext$.withValue(AttributionContext.scala:158)\n",
      "\tat com.databricks.logging.UsageLogging.withAttributionContext(UsageLogging.scala:412)\n",
      "\tat com.databricks.logging.UsageLogging.withAttributionContext$(UsageLogging.scala:409)\n",
      "\tat com.databricks.backend.daemon.dbutils.FSUtils.withAttributionContext(DBUtilsCore.scala:71)\n",
      "\tat com.databricks.logging.UsageLogging.withAttributionTags(UsageLogging.scala:457)\n",
      "\tat com.databricks.logging.UsageLogging.withAttributionTags$(UsageLogging.scala:442)\n",
      "\tat com.databricks.backend.daemon.dbutils.FSUtils.withAttributionTags(DBUtilsCore.scala:71)\n",
      "\tat com.databricks.logging.UsageLogging.recordOperationWithResultTags(UsageLogging.scala:652)\n",
      "\tat com.databricks.logging.UsageLogging.recordOperationWithResultTags$(UsageLogging.scala:569)\n",
      "\tat com.databricks.backend.daemon.dbutils.FSUtils.recordOperationWithResultTags(DBUtilsCore.scala:71)\n",
      "\tat com.databricks.logging.UsageLogging.recordOperation(UsageLogging.scala:560)\n",
      "\tat com.databricks.logging.UsageLogging.recordOperation$(UsageLogging.scala:528)\n",
      "\tat com.databricks.backend.daemon.dbutils.FSUtils.recordOperation(DBUtilsCore.scala:71)\n",
      "\tat com.databricks.backend.daemon.dbutils.FSUtils.recordDbutilsFsOp(DBUtilsCore.scala:135)\n",
      "\tat com.databricks.backend.daemon.dbutils.FSUtils.ls(DBUtilsCore.scala:215)\n",
      "\tat sun.reflect.NativeMethodAccessorImpl.invoke0(Native Method)\n",
      "\tat sun.reflect.NativeMethodAccessorImpl.invoke(NativeMethodAccessorImpl.java:62)\n",
      "\tat sun.reflect.DelegatingMethodAccessorImpl.invoke(DelegatingMethodAccessorImpl.java:43)\n",
      "\tat java.lang.reflect.Method.invoke(Method.java:498)\n",
      "\tat py4j.reflection.MethodInvoker.invoke(MethodInvoker.java:244)\n",
      "\tat py4j.reflection.ReflectionEngine.invoke(ReflectionEngine.java:380)\n",
      "\tat py4j.Gateway.invoke(Gateway.java:306)\n",
      "\tat py4j.commands.AbstractCommand.invokeMethod(AbstractCommand.java:132)\n",
      "\tat py4j.commands.CallCommand.execute(CallCommand.java:79)\n",
      "\tat py4j.ClientServerConnection.waitForCommands(ClientServerConnection.java:195)\n",
      "\tat py4j.ClientServerConnection.run(ClientServerConnection.java:115)\n",
      "\tat java.lang.Thread.run(Thread.java:750)\n",
      "Caused by: Operation failed: \"The specified path does not exist.\", 404, GET, https://dbstoragekt7zpnrndjfbm.dfs.core.windows.net/root?upn=false&resource=filesystem&maxResults=5000&directory=3109534669391467/mnt/tokyoolympic&timeout=90&recursive=false&sig=XXXXX&st=2024-07-02T17:03:51Z&se=2024-07-03T13:03:51Z&sv=2019-02-02&spr=https&sp=racwdl&sr=c, PathNotFound, \"The specified path does not exist. RequestId:f55de7aa-b01f-0099-06ab-cc9ed0000000 Time:2024-07-02T18:16:29.2592581Z\"\n",
      "\tat shaded.databricks.azurebfs.org.apache.hadoop.fs.azurebfs.services.AbfsRestOperation.completeExecute(AbfsRestOperation.java:300)\n",
      "\tat shaded.databricks.azurebfs.org.apache.hadoop.fs.azurebfs.services.AbfsRestOperation.lambda$execute$0(AbfsRestOperation.java:214)\n",
      "\tat org.apache.hadoop.fs.statistics.impl.IOStatisticsBinding.trackDurationOfInvocation(IOStatisticsBinding.java:464)\n",
      "\tat shaded.databricks.azurebfs.org.apache.hadoop.fs.azurebfs.services.AbfsRestOperation.execute(AbfsRestOperation.java:212)\n",
      "\tat shaded.databricks.azurebfs.org.apache.hadoop.fs.azurebfs.services.AbfsClient.listPath(AbfsClient.java:389)\n",
      "\tat shaded.databricks.azurebfs.org.apache.hadoop.fs.azurebfs.AzureBlobFileSystemStore.listStatus(AzureBlobFileSystemStore.java:1255)\n",
      "\tat shaded.databricks.azurebfs.org.apache.hadoop.fs.azurebfs.AzureBlobFileSystemStore.listStatus(AzureBlobFileSystemStore.java:1222)\n",
      "\tat shaded.databricks.azurebfs.org.apache.hadoop.fs.azurebfs.AzureBlobFileSystemStore.listStatus(AzureBlobFileSystemStore.java:1180)\n",
      "\tat shaded.databricks.azurebfs.org.apache.hadoop.fs.azurebfs.AzureBlobFileSystem.listStatus(AzureBlobFileSystem.java:622)\n",
      "\t... 63 more\n",
      "\n"
     ]
    }
   ],
   "source": [
    "# Define the storage account details\n",
    "storage_account_name = \"\"\n",
    "storage_account_key = \"\"\n",
    "\n",
    "# Set the configuration for the storage account\n",
    "configs = {\n",
    "    f\"fs.azure.account.key.{storage_account_name}.dfs.core.windows.net\": storage_account_key\n",
    "}\n",
    "\n",
    "# Define the mount point\n",
    "mount_point = \"/mnt/tokyoolympic\"\n",
    "\n",
    "# Unmount if the mount point already exists to avoid conflicts\n",
    "if any(mount.mountPoint == mount_point for mount in dbutils.fs.mounts()):\n",
    "    dbutils.fs.unmount(mount_point)\n",
    "\n",
    "# Mount the ADLS storage\n",
    "try:\n",
    "    dbutils.fs.mount(\n",
    "        source=f\"abfss://tokyo-olympics-data@{storage_account_name}.dfs.core.windows.net/\",\n",
    "        mount_point=mount_point,\n",
    "        extra_configs=configs\n",
    "    )\n",
    "    print(f\"Mount successful: {mount_point}\")\n",
    "except Exception as e:\n",
    "    print(f\"Error mounting storage: {e}\")\n",
    "\n",
    "# Verify the mount by listing the contents\n",
    "try:\n",
    "    display(dbutils.fs.ls(mount_point))\n",
    "except Exception as e:\n",
    "    print(f\"Error listing contents of mount point: {e}\")\n"
   ]
  },
  {
   "cell_type": "code",
   "execution_count": null,
   "metadata": {
    "application/vnd.databricks.v1+cell": {
     "cellMetadata": {
      "byteLimit": 2048000,
      "rowLimit": 10000
     },
     "inputWidgets": {},
     "nuid": "eae69ac8-eefa-48eb-b8b8-a30c1a6b6266",
     "showTitle": false,
     "title": ""
    }
   },
   "outputs": [
    {
     "name": "stdout",
     "output_type": "stream",
     "text": [
      "abfss://tokyo-olympics-data@tokyoolymicsdataali.dfs.core.windows.net/raw-data/\n",
      "abfss://tokyo-olympics-data@tokyoolymicsdataali.dfs.core.windows.net/transformed-data/\n"
     ]
    }
   ],
   "source": [
    "# List Contents of the Container\n",
    "\n",
    "# Define the storage account details\n",
    "storage_account_name = \"\"\n",
    "storage_account_key = \"\"\n",
    "\n",
    "# Configure the Spark session\n",
    "spark.conf.set(f\"fs.azure.account.key.{storage_account_name}.dfs.core.windows.net\", storage_account_key)\n",
    "\n",
    "# Define the container path\n",
    "container_path = f\"abfss://tokyo-olympics-data@{storage_account_name}.dfs.core.windows.net/\"\n",
    "\n",
    "# List the contents of the container\n",
    "try:\n",
    "    files = dbutils.fs.ls(container_path)\n",
    "    for file in files:\n",
    "        print(file.path)\n",
    "except Exception as e:\n",
    "    print(f\"Error listing contents of container: {e}\")\n"
   ]
  },
  {
   "cell_type": "code",
   "execution_count": null,
   "metadata": {
    "application/vnd.databricks.v1+cell": {
     "cellMetadata": {
      "byteLimit": 2048000,
      "rowLimit": 10000
     },
     "inputWidgets": {},
     "nuid": "9280aa75-383d-4cf4-84ae-0b232df259aa",
     "showTitle": false,
     "title": ""
    }
   },
   "outputs": [
    {
     "name": "stdout",
     "output_type": "stream",
     "text": [
      "Loaded data from: abfss://tokyo-olympics-data@tokyoolymicsdataali.dfs.core.windows.net/raw-data/athletes.csv\n",
      "First few rows of DataFrame athletes:\n",
      "+--------------------+--------------------+-------------------+\n",
      "|          PersonName|             Country|         Discipline|\n",
      "+--------------------+--------------------+-------------------+\n",
      "|     AALERUD Katrine|              Norway|       Cycling Road|\n",
      "|         ABAD Nestor|               Spain|Artistic Gymnastics|\n",
      "|   ABAGNALE Giovanni|               Italy|             Rowing|\n",
      "|      ABALDE Alberto|               Spain|         Basketball|\n",
      "|       ABALDE Tamara|               Spain|         Basketball|\n",
      "|           ABALO Luc|              France|           Handball|\n",
      "|        ABAROA Cesar|               Chile|             Rowing|\n",
      "|       ABASS Abobakr|               Sudan|           Swimming|\n",
      "|    ABBASALI Hamideh|Islamic Republic ...|             Karate|\n",
      "|       ABBASOV Islam|          Azerbaijan|          Wrestling|\n",
      "|        ABBINGH Lois|         Netherlands|           Handball|\n",
      "|         ABBOT Emily|           Australia|Rhythmic Gymnastics|\n",
      "|       ABBOTT Monica|United States of ...|  Baseball/Softball|\n",
      "|ABDALLA Abubaker ...|               Qatar|          Athletics|\n",
      "|      ABDALLA Maryam|               Egypt|  Artistic Swimming|\n",
      "|      ABDALLAH Shahd|               Egypt|  Artistic Swimming|\n",
      "| ABDALRASOOL Mohamed|               Sudan|               Judo|\n",
      "|   ABDEL LATIF Radwa|               Egypt|           Shooting|\n",
      "|    ABDEL RAZEK Samy|               Egypt|           Shooting|\n",
      "|   ABDELAZIZ Abdalla|               Egypt|             Karate|\n",
      "+--------------------+--------------------+-------------------+\n",
      "only showing top 20 rows\n",
      "\n",
      "Schema of DataFrame athletes:\n",
      "root\n",
      " |-- PersonName: string (nullable = true)\n",
      " |-- Country: string (nullable = true)\n",
      " |-- Discipline: string (nullable = true)\n",
      "\n",
      "Loaded data from: abfss://tokyo-olympics-data@tokyoolymicsdataali.dfs.core.windows.net/raw-data/coaches.csv\n",
      "First few rows of DataFrame coaches:\n",
      "+--------------------+--------------------+-----------------+--------+\n",
      "|                Name|             Country|       Discipline|   Event|\n",
      "+--------------------+--------------------+-----------------+--------+\n",
      "|     ABDELMAGID Wael|               Egypt|         Football|    null|\n",
      "|           ABE Junya|               Japan|       Volleyball|    null|\n",
      "|       ABE Katsuhiko|               Japan|       Basketball|    null|\n",
      "|        ADAMA Cherif|       C�te d'Ivoire|         Football|    null|\n",
      "|          AGEBA Yuya|               Japan|       Volleyball|    null|\n",
      "|AIKMAN Siegfried ...|               Japan|           Hockey|     Men|\n",
      "|       AL SAADI Kais|             Germany|           Hockey|     Men|\n",
      "|       ALAMEDA Lonni|              Canada|Baseball/Softball|Softball|\n",
      "|     ALEKNO Vladimir|Islamic Republic ...|       Volleyball|     Men|\n",
      "|     ALEKSEEV Alexey|                 ROC|         Handball|   Women|\n",
      "|ALLER CARBALLO Ma...|               Spain|       Basketball|    null|\n",
      "|       ALSHEHRI Saad|        Saudi Arabia|         Football|     Men|\n",
      "|           ALY Kamal|               Egypt|         Football|    null|\n",
      "| AMAYA GAITAN Fabian|         Puerto Rico|       Basketball|    null|\n",
      "|    AMO AGUADO Pablo|               Spain|         Football|    null|\n",
      "|   ANDONOVSKI Vlatko|United States of ...|         Football|   Women|\n",
      "|        ANNAN Alyson|         Netherlands|           Hockey|   Women|\n",
      "|  ARNAU CREUS Xavier|               Japan|           Hockey|   Women|\n",
      "|       ARNOLD Graham|           Australia|         Football|     Men|\n",
      "|         AXNER Tomas|              Sweden|         Handball|   Women|\n",
      "+--------------------+--------------------+-----------------+--------+\n",
      "only showing top 20 rows\n",
      "\n",
      "Schema of DataFrame coaches:\n",
      "root\n",
      " |-- Name: string (nullable = true)\n",
      " |-- Country: string (nullable = true)\n",
      " |-- Discipline: string (nullable = true)\n",
      " |-- Event: string (nullable = true)\n",
      "\n",
      "Loaded data from: abfss://tokyo-olympics-data@tokyoolymicsdataali.dfs.core.windows.net/raw-data/entriesgender.csv\n",
      "First few rows of DataFrame entriesgender:\n",
      "+--------------------+------+----+-----+\n",
      "|          Discipline|Female|Male|Total|\n",
      "+--------------------+------+----+-----+\n",
      "|      3x3 Basketball|    32|  32|   64|\n",
      "|             Archery|    64|  64|  128|\n",
      "| Artistic Gymnastics|    98|  98|  196|\n",
      "|   Artistic Swimming|   105|   0|  105|\n",
      "|           Athletics|   969|1072| 2041|\n",
      "|           Badminton|    86|  87|  173|\n",
      "|   Baseball/Softball|    90| 144|  234|\n",
      "|          Basketball|   144| 144|  288|\n",
      "|    Beach Volleyball|    48|  48|   96|\n",
      "|              Boxing|   102| 187|  289|\n",
      "|        Canoe Slalom|    41|  41|   82|\n",
      "|        Canoe Sprint|   123| 126|  249|\n",
      "|Cycling BMX Frees...|    10|   9|   19|\n",
      "|  Cycling BMX Racing|    24|  24|   48|\n",
      "|Cycling Mountain ...|    38|  38|   76|\n",
      "|        Cycling Road|    70| 131|  201|\n",
      "|       Cycling Track|    90|  99|  189|\n",
      "|              Diving|    72|  71|  143|\n",
      "|          Equestrian|    73| 125|  198|\n",
      "|             Fencing|   107| 108|  215|\n",
      "+--------------------+------+----+-----+\n",
      "only showing top 20 rows\n",
      "\n",
      "Schema of DataFrame entriesgender:\n",
      "root\n",
      " |-- Discipline: string (nullable = true)\n",
      " |-- Female: integer (nullable = true)\n",
      " |-- Male: integer (nullable = true)\n",
      " |-- Total: integer (nullable = true)\n",
      "\n"
     ]
    }
   ],
   "source": [
    "# Define the storage account details\n",
    "storage_account_name = \"\"\n",
    "storage_account_key = \"\"\n",
    "\n",
    "# Configure the Spark session\n",
    "spark.conf.set(f\"fs.azure.account.key.{storage_account_name}.dfs.core.windows.net\", storage_account_key)\n",
    "\n",
    "# Path to the data directory in ADLS\n",
    "data_directory_path = f\"abfss://tokyo-olympics-data@{storage_account_name}.dfs.core.windows.net/raw-data/\"\n",
    "\n",
    "# List all files in the directory\n",
    "try:\n",
    "    files = dbutils.fs.ls(data_directory_path)\n",
    "    csv_files = [file.path for file in files if file.path.endswith(\".csv\")]\n",
    "except Exception as e:\n",
    "    print(f\"Error listing contents of directory: {e}\")\n",
    "\n",
    "# Load each CSV file into a separate DataFrame and assign to variables dynamically\n",
    "for csv_file in csv_files:\n",
    "    try:\n",
    "        # Extract file name without path and extension to use as variable name\n",
    "        file_name = csv_file.split(\"/\")[-1].split(\".csv\")[0]\n",
    "        \n",
    "        # Load CSV file into DataFrame\n",
    "        df = spark.read.csv(csv_file, header=True, inferSchema=True)\n",
    "        print(f\"Loaded data from: {csv_file}\")\n",
    "        \n",
    "        # Assign DataFrame to a variable named after the file name\n",
    "        globals()[file_name] = df  # Use locals() if you want to store in local scope\n",
    "        \n",
    "        # Example: Show first few rows of each DataFrame\n",
    "        print(f\"First few rows of DataFrame {file_name}:\")\n",
    "        globals()[file_name].show()\n",
    "        \n",
    "        # Example: Print schema of each DataFrame\n",
    "        print(f\"Schema of DataFrame {file_name}:\")\n",
    "        globals()[file_name].printSchema()\n",
    "        \n",
    "    except Exception as e:\n",
    "        print(f\"Error reading data from {csv_file}: {e}\")\n",
    "\n",
    "# Now you can access each DataFrame by its file name variable, e.g., athlete, sport, event, etc.\n",
    "# Example:\n",
    "# athlete.show()\n",
    "# sport.printSchema()\n",
    "# event.show()\n"
   ]
  },
  {
   "cell_type": "code",
   "execution_count": null,
   "metadata": {
    "application/vnd.databricks.v1+cell": {
     "cellMetadata": {
      "byteLimit": 2048000,
      "rowLimit": 10000
     },
     "inputWidgets": {},
     "nuid": "1e8b4f54-79b9-4c47-aba8-21665e58213e",
     "showTitle": false,
     "title": ""
    }
   },
   "outputs": [
    {
     "name": "stdout",
     "output_type": "stream",
     "text": [
      "+--------------------+--------------------+-------------------+\n",
      "|          PersonName|             Country|         Discipline|\n",
      "+--------------------+--------------------+-------------------+\n",
      "|     AALERUD Katrine|              Norway|       Cycling Road|\n",
      "|         ABAD Nestor|               Spain|Artistic Gymnastics|\n",
      "|   ABAGNALE Giovanni|               Italy|             Rowing|\n",
      "|      ABALDE Alberto|               Spain|         Basketball|\n",
      "|       ABALDE Tamara|               Spain|         Basketball|\n",
      "|           ABALO Luc|              France|           Handball|\n",
      "|        ABAROA Cesar|               Chile|             Rowing|\n",
      "|       ABASS Abobakr|               Sudan|           Swimming|\n",
      "|    ABBASALI Hamideh|Islamic Republic ...|             Karate|\n",
      "|       ABBASOV Islam|          Azerbaijan|          Wrestling|\n",
      "|        ABBINGH Lois|         Netherlands|           Handball|\n",
      "|         ABBOT Emily|           Australia|Rhythmic Gymnastics|\n",
      "|       ABBOTT Monica|United States of ...|  Baseball/Softball|\n",
      "|ABDALLA Abubaker ...|               Qatar|          Athletics|\n",
      "|      ABDALLA Maryam|               Egypt|  Artistic Swimming|\n",
      "|      ABDALLAH Shahd|               Egypt|  Artistic Swimming|\n",
      "| ABDALRASOOL Mohamed|               Sudan|               Judo|\n",
      "|   ABDEL LATIF Radwa|               Egypt|           Shooting|\n",
      "|    ABDEL RAZEK Samy|               Egypt|           Shooting|\n",
      "|   ABDELAZIZ Abdalla|               Egypt|             Karate|\n",
      "+--------------------+--------------------+-------------------+\n",
      "only showing top 20 rows\n",
      "\n",
      "root\n",
      " |-- PersonName: string (nullable = true)\n",
      " |-- Country: string (nullable = true)\n",
      " |-- Discipline: string (nullable = true)\n",
      "\n"
     ]
    }
   ],
   "source": [
    "athletes.show()\n",
    "athletes.printSchema()\n"
   ]
  },
  {
   "cell_type": "code",
   "execution_count": null,
   "metadata": {
    "application/vnd.databricks.v1+cell": {
     "cellMetadata": {
      "byteLimit": 2048000,
      "rowLimit": 10000
     },
     "inputWidgets": {},
     "nuid": "79e5bbeb-9e8e-4727-aeff-c12f284bc1f2",
     "showTitle": false,
     "title": ""
    }
   },
   "outputs": [
    {
     "name": "stdout",
     "output_type": "stream",
     "text": [
      "+--------------------+------+----+-----+\n",
      "|          Discipline|Female|Male|Total|\n",
      "+--------------------+------+----+-----+\n",
      "|      3x3 Basketball|    32|  32|   64|\n",
      "|             Archery|    64|  64|  128|\n",
      "| Artistic Gymnastics|    98|  98|  196|\n",
      "|   Artistic Swimming|   105|   0|  105|\n",
      "|           Athletics|   969|1072| 2041|\n",
      "|           Badminton|    86|  87|  173|\n",
      "|   Baseball/Softball|    90| 144|  234|\n",
      "|          Basketball|   144| 144|  288|\n",
      "|    Beach Volleyball|    48|  48|   96|\n",
      "|              Boxing|   102| 187|  289|\n",
      "|        Canoe Slalom|    41|  41|   82|\n",
      "|        Canoe Sprint|   123| 126|  249|\n",
      "|Cycling BMX Frees...|    10|   9|   19|\n",
      "|  Cycling BMX Racing|    24|  24|   48|\n",
      "|Cycling Mountain ...|    38|  38|   76|\n",
      "|        Cycling Road|    70| 131|  201|\n",
      "|       Cycling Track|    90|  99|  189|\n",
      "|              Diving|    72|  71|  143|\n",
      "|          Equestrian|    73| 125|  198|\n",
      "|             Fencing|   107| 108|  215|\n",
      "+--------------------+------+----+-----+\n",
      "only showing top 20 rows\n",
      "\n",
      "root\n",
      " |-- Discipline: string (nullable = true)\n",
      " |-- Female: integer (nullable = true)\n",
      " |-- Male: integer (nullable = true)\n",
      " |-- Total: integer (nullable = true)\n",
      "\n"
     ]
    }
   ],
   "source": [
    "entriesgender.show()\n",
    "entriesgender.printSchema()"
   ]
  },
  {
   "cell_type": "code",
   "execution_count": null,
   "metadata": {
    "application/vnd.databricks.v1+cell": {
     "cellMetadata": {
      "byteLimit": 2048000,
      "rowLimit": 10000
     },
     "inputWidgets": {},
     "nuid": "95f1d8dd-471c-4e26-a41f-813d512667c2",
     "showTitle": false,
     "title": ""
    }
   },
   "outputs": [],
   "source": [
    "from pyspark.sql.types import IntegerType"
   ]
  },
  {
   "cell_type": "markdown",
   "metadata": {
    "application/vnd.databricks.v1+cell": {
     "cellMetadata": {},
     "inputWidgets": {},
     "nuid": "f7899c66-2e46-4189-831e-c07712b9fb58",
     "showTitle": false,
     "title": ""
    }
   },
   "source": [
    "# Manipulation of the table 'entriesgender'"
   ]
  },
  {
   "cell_type": "code",
   "execution_count": null,
   "metadata": {
    "application/vnd.databricks.v1+cell": {
     "cellMetadata": {
      "byteLimit": 2048000,
      "rowLimit": 10000
     },
     "inputWidgets": {},
     "nuid": "c89e7ad1-3b53-4f50-9fff-ee30d5605b77",
     "showTitle": false,
     "title": ""
    }
   },
   "outputs": [],
   "source": [
    "entriesgender = entriesgender.withColumn(\"Female\",col(\"Female\").cast(IntegerType())).withColumn(\"Male\",col(\"Male\").cast(IntegerType())).withColumn(\"Female\",col(\"Female\").cast(IntegerType()))\n",
    "\n",
    "entriesgender.show()\n",
    "entriesgender.printSchema()"
   ]
  },
  {
   "cell_type": "code",
   "execution_count": null,
   "metadata": {
    "application/vnd.databricks.v1+cell": {
     "cellMetadata": {
      "byteLimit": 2048000,
      "rowLimit": 10000
     },
     "inputWidgets": {},
     "nuid": "c9222a3b-d80a-4044-bfbc-6a77418c68af",
     "showTitle": false,
     "title": ""
    }
   },
   "outputs": [
    {
     "name": "stdout",
     "output_type": "stream",
     "text": [
      "+--------------------+------+----+-----+------------------+------------------+\n",
      "|          Discipline|Female|Male|Total|       % of Female|         % of Male|\n",
      "+--------------------+------+----+-----+------------------+------------------+\n",
      "|      3x3 Basketball|    32|  32|   64|              50.0|              50.0|\n",
      "|             Archery|    64|  64|  128|              50.0|              50.0|\n",
      "| Artistic Gymnastics|    98|  98|  196|              50.0|              50.0|\n",
      "|   Artistic Swimming|   105|   0|  105|             100.0|               0.0|\n",
      "|           Athletics|   969|1072| 2041| 47.47672709456149| 52.52327290543851|\n",
      "|           Badminton|    86|  87|  173| 49.71098265895954| 50.28901734104046|\n",
      "|   Baseball/Softball|    90| 144|  234| 38.46153846153847| 61.53846153846154|\n",
      "|          Basketball|   144| 144|  288|              50.0|              50.0|\n",
      "|    Beach Volleyball|    48|  48|   96|              50.0|              50.0|\n",
      "|              Boxing|   102| 187|  289|35.294117647058826| 64.70588235294117|\n",
      "|        Canoe Slalom|    41|  41|   82|              50.0|              50.0|\n",
      "|        Canoe Sprint|   123| 126|  249| 49.39759036144578|50.602409638554214|\n",
      "|Cycling BMX Frees...|    10|   9|   19| 52.63157894736842|47.368421052631575|\n",
      "|  Cycling BMX Racing|    24|  24|   48|              50.0|              50.0|\n",
      "|Cycling Mountain ...|    38|  38|   76|              50.0|              50.0|\n",
      "|        Cycling Road|    70| 131|  201| 34.82587064676617| 65.17412935323384|\n",
      "|       Cycling Track|    90|  99|  189| 47.61904761904761| 52.38095238095239|\n",
      "|              Diving|    72|  71|  143|50.349650349650354| 49.65034965034965|\n",
      "|          Equestrian|    73| 125|  198|36.868686868686865| 63.13131313131313|\n",
      "|             Fencing|   107| 108|  215| 49.76744186046512| 50.23255813953489|\n",
      "+--------------------+------+----+-----+------------------+------------------+\n",
      "only showing top 20 rows\n",
      "\n",
      "root\n",
      " |-- Discipline: string (nullable = true)\n",
      " |-- Female: integer (nullable = true)\n",
      " |-- Male: integer (nullable = true)\n",
      " |-- Total: integer (nullable = true)\n",
      " |-- % of Female: double (nullable = true)\n",
      " |-- % of Male: double (nullable = true)\n",
      "\n"
     ]
    }
   ],
   "source": [
    "# change the type of columns to IntegerType and add % columns\n",
    "\n",
    "entriesgender = entriesgender.withColumn(\"% of Female\",col(\"Female\")/col(\"Total\")*100)\\\n",
    ".withColumn(\"% of Male\",col(\"Male\")/col(\"Total\")*100)\\\n",
    ".withColumn(\"Total\",col(\"Total\").cast(IntegerType()))\n",
    "\n",
    "entriesgender.show()\n",
    "entriesgender.printSchema()"
   ]
  },
  {
   "cell_type": "markdown",
   "metadata": {
    "application/vnd.databricks.v1+cell": {
     "cellMetadata": {},
     "inputWidgets": {},
     "nuid": "c455431b-7aa6-4cda-a326-ab0da80b3de1",
     "showTitle": false,
     "title": ""
    }
   },
   "source": [
    "# Creation of 'sports' table from the table 'athletes'"
   ]
  },
  {
   "cell_type": "code",
   "execution_count": null,
   "metadata": {
    "application/vnd.databricks.v1+cell": {
     "cellMetadata": {
      "byteLimit": 2048000,
      "rowLimit": 10000
     },
     "inputWidgets": {},
     "nuid": "67af918a-c8db-482b-9c0d-500f887917c3",
     "showTitle": false,
     "title": ""
    }
   },
   "outputs": [
    {
     "name": "stdout",
     "output_type": "stream",
     "text": [
      "+--------------------+-----+\n",
      "|          Discipline|count|\n",
      "+--------------------+-----+\n",
      "|              Tennis|  178|\n",
      "|              Boxing|  270|\n",
      "|   Marathon Swimming|   49|\n",
      "|                Golf|  115|\n",
      "|              Rowing|  496|\n",
      "|   Baseball/Softball|  220|\n",
      "|                Judo|  373|\n",
      "|             Sailing|  336|\n",
      "|            Swimming|  743|\n",
      "|Cycling BMX Frees...|   19|\n",
      "|          Basketball|  280|\n",
      "|            Handball|  343|\n",
      "| Rhythmic Gymnastics|   95|\n",
      "|              Karate|   77|\n",
      "|           Triathlon|  106|\n",
      "|           Badminton|  164|\n",
      "|        Canoe Sprint|  236|\n",
      "|           Athletics| 2068|\n",
      "|       Cycling Track|  208|\n",
      "|    Beach Volleyball|   90|\n",
      "+--------------------+-----+\n",
      "only showing top 20 rows\n",
      "\n"
     ]
    }
   ],
   "source": [
    "sports = athletes.groupBy('Discipline').count()\n",
    "sports.show()"
   ]
  },
  {
   "cell_type": "markdown",
   "metadata": {
    "application/vnd.databricks.v1+cell": {
     "cellMetadata": {},
     "inputWidgets": {},
     "nuid": "31efca25-3fe8-462f-9199-089e01740da8",
     "showTitle": false,
     "title": ""
    }
   },
   "source": [
    "# Joined 'athletes-coaches' table"
   ]
  },
  {
   "cell_type": "code",
   "execution_count": null,
   "metadata": {
    "application/vnd.databricks.v1+cell": {
     "cellMetadata": {
      "byteLimit": 2048000,
      "rowLimit": 10000
     },
     "inputWidgets": {},
     "nuid": "9ca4e758-ca5e-42e8-beaa-930cb051cbf6",
     "showTitle": false,
     "title": ""
    }
   },
   "outputs": [
    {
     "name": "stdout",
     "output_type": "stream",
     "text": [
      "+--------------------+-----------------+--------------------+--------------------+\n",
      "|         AthleteName|       Discipline|             Country|           CoachName|\n",
      "+--------------------+-----------------+--------------------+--------------------+\n",
      "|      ABALDE Alberto|       Basketball|               Spain|ZAMORA PEDREIRA J...|\n",
      "|       ABALDE Tamara|       Basketball|               Spain|ZAMORA PEDREIRA J...|\n",
      "|           ABALO Luc|         Handball|              France|   KRUMBHOLZ Olivier|\n",
      "|        ABBINGH Lois|         Handball|         Netherlands|  MAYONNADE Emmanuel|\n",
      "|       ABBOTT Monica|Baseball/Softball|United States of ...|     WEINSTEIN Jerry|\n",
      "|      ABDALLA Maryam|Artistic Swimming|               Egypt|         MOHAMED Mai|\n",
      "|      ABDALLAH Shahd|Artistic Swimming|               Egypt|         MOHAMED Mai|\n",
      "|  ABDELSALAM Mohamed|         Football|               Egypt|       SIAM Zaghloul|\n",
      "|     ABDULHAMID Saud|         Football|        Saudi Arabia|      MOHAMED Sayeda|\n",
      "|  ABDULREDHA Mohamed|         Handball|             Bahrain|  KRIST JANSSON Aron|\n",
      "| ABELVIK ROED Magnus|         Handball|              Norway|  HERGEIRSSON Thorir|\n",
      "|ABRAHAMS Rusten John|           Hockey|        South Africa|       ZONDI Nkuliso|\n",
      "|ABRINES REDONDO A...|       Basketball|               Spain|ZAMORA PEDREIRA J...|\n",
      "|    ACHIUWA Precious|       Basketball|             Nigeria|     SCHILLING April|\n",
      "|     ACHONWA Natalie|       Basketball|              Canada|      THOMAIDIS Lisa|\n",
      "|         ACUNA Yenny|         Football|               Chile|         WIRTH Oscar|\n",
      "|        ADACHI Seiya|       Water Polo|               Japan|          OMOTO Yoji|\n",
      "| ADEBAYO Edrice Femi|       Basketball|United States of ...|       WRIGHT Jerold|\n",
      "|        ADEL Ibrahim|         Football|               Egypt|       SIAM Zaghloul|\n",
      "|         AEDO Yanara|         Football|               Chile|         WIRTH Oscar|\n",
      "+--------------------+-----------------+--------------------+--------------------+\n",
      "only showing top 20 rows\n",
      "\n"
     ]
    }
   ],
   "source": [
    "# Join on multiple columns\n",
    "athletes_coaches = athletes.join(coaches, (athletes.Discipline == coaches.Discipline) & (athletes.Country == coaches.Country), \"inner\")\n",
    "\n",
    "# Select columns to keep and remove duplicates\n",
    "athletes_coaches = athletes_coaches.select(\n",
    "    athletes[\"PersonName\"].alias(\"AthleteName\"),\n",
    "    athletes[\"Discipline\"],\n",
    "    athletes[\"Country\"],\n",
    "    coaches[\"Name\"].alias(\"CoachName\")\n",
    ")\n",
    "\n",
    "# Show the result\n",
    "athletes_coaches.show()\n"
   ]
  },
  {
   "cell_type": "code",
   "execution_count": null,
   "metadata": {
    "application/vnd.databricks.v1+cell": {
     "cellMetadata": {
      "byteLimit": 2048000,
      "rowLimit": 10000
     },
     "inputWidgets": {},
     "nuid": "769b4620-4bf0-4c53-89cf-ce57e3f5ef5a",
     "showTitle": false,
     "title": ""
    }
   },
   "outputs": [
    {
     "name": "stdout",
     "output_type": "stream",
     "text": [
      "Unexpected exception formatting exception. Falling back to standard exception\n"
     ]
    },
    {
     "name": "stderr",
     "output_type": "stream",
     "text": [
      "Traceback (most recent call last):\n",
      "  File \"/databricks/python/lib/python3.9/site-packages/IPython/core/interactiveshell.py\", line 3378, in run_code\n",
      "    exec(code_obj, self.user_global_ns, self.user_ns)\n",
      "  File \"<command-2443687673721993>\", line 6, in <module>\n",
      "    athletes_coaches = athletes_coaches.select(athletes_coaches[\"Country\"], \"AthleteName\", \"CoachName\",\"Discipline\")\n",
      "  File \"/databricks/spark/python/pyspark/instrumentation_utils.py\", line 48, in wrapper\n",
      "    res = func(*args, **kwargs)\n",
      "  File \"/databricks/spark/python/pyspark/sql/dataframe.py\", line 2918, in __getitem__\n",
      "    jc = self._jdf.apply(item)\n",
      "  File \"/databricks/spark/python/lib/py4j-0.10.9.5-src.zip/py4j/java_gateway.py\", line 1321, in __call__\n",
      "    return_value = get_return_value(\n",
      "  File \"/databricks/spark/python/pyspark/errors/exceptions.py\", line 234, in deco\n",
      "    raise converted from None\n",
      "pyspark.errors.exceptions.AnalysisException: [AMBIGUOUS_REFERENCE] Reference `Country` is ambiguous, could be: [`Country`, `Country`].\n",
      "\n",
      "During handling of the above exception, another exception occurred:\n",
      "\n",
      "Traceback (most recent call last):\n",
      "  File \"/databricks/python/lib/python3.9/site-packages/IPython/core/interactiveshell.py\", line 1997, in showtraceback\n",
      "    stb = self.InteractiveTB.structured_traceback(\n",
      "  File \"/databricks/python/lib/python3.9/site-packages/IPython/core/ultratb.py\", line 1112, in structured_traceback\n",
      "    return FormattedTB.structured_traceback(\n",
      "  File \"/databricks/python/lib/python3.9/site-packages/IPython/core/ultratb.py\", line 1006, in structured_traceback\n",
      "    return VerboseTB.structured_traceback(\n",
      "  File \"/databricks/python/lib/python3.9/site-packages/IPython/core/ultratb.py\", line 859, in structured_traceback\n",
      "    formatted_exception = self.format_exception_as_a_whole(etype, evalue, etb, number_of_lines_of_context,\n",
      "  File \"/databricks/python/lib/python3.9/site-packages/IPython/core/ultratb.py\", line 812, in format_exception_as_a_whole\n",
      "    frames.append(self.format_record(r))\n",
      "  File \"/databricks/python/lib/python3.9/site-packages/IPython/core/ultratb.py\", line 730, in format_record\n",
      "    result += ''.join(_format_traceback_lines(frame_info.lines, Colors, self.has_colors, lvals))\n",
      "  File \"/databricks/python/lib/python3.9/site-packages/stack_data/utils.py\", line 145, in cached_property_wrapper\n",
      "    value = obj.__dict__[self.func.__name__] = self.func(obj)\n",
      "  File \"/databricks/python/lib/python3.9/site-packages/stack_data/core.py\", line 698, in lines\n",
      "    pieces = self.included_pieces\n",
      "  File \"/databricks/python/lib/python3.9/site-packages/stack_data/utils.py\", line 145, in cached_property_wrapper\n",
      "    value = obj.__dict__[self.func.__name__] = self.func(obj)\n",
      "  File \"/databricks/python/lib/python3.9/site-packages/stack_data/core.py\", line 649, in included_pieces\n",
      "    pos = scope_pieces.index(self.executing_piece)\n",
      "  File \"/databricks/python/lib/python3.9/site-packages/stack_data/utils.py\", line 145, in cached_property_wrapper\n",
      "    value = obj.__dict__[self.func.__name__] = self.func(obj)\n",
      "  File \"/databricks/python/lib/python3.9/site-packages/stack_data/core.py\", line 628, in executing_piece\n",
      "    return only(\n",
      "  File \"/databricks/python/lib/python3.9/site-packages/executing/executing.py\", line 164, in only\n",
      "    raise NotOneValueFound('Expected one value, found 0')\n",
      "executing.executing.NotOneValueFound: Expected one value, found 0\n"
     ]
    },
    {
     "data": {
      "text/plain": []
     },
     "metadata": {
      "application/vnd.databricks.v1+output": {
       "arguments": {},
       "data": "",
       "errorSummary": "<span class='ansi-red-fg'>AnalysisException</span>: [AMBIGUOUS_REFERENCE] Reference `Country` is ambiguous, could be: [`Country`, `Country`].",
       "errorTraceType": "ansi",
       "metadata": {},
       "type": "ipynbError"
      }
     },
     "output_type": "display_data"
    }
   ],
   "source": [
    "# athletes_coaches = athletes.join(coaches, (athletes.Discipline == coaches.Discipline) & (athletes.Country == coaches.Country), \"inner\")\n",
    "\n",
    "# athletes_coaches = athletes_coaches.withColumn(\"AthleteName\",athletes_coaches[\"personName\"])\\\n",
    "#     .withColumn(\"CoachName\",athletes_coaches[\"Name\"])\n",
    "\n",
    "# athletes_coaches = athletes_coaches.select(athletes_coaches[\"Country\"], \"AthleteName\", \"CoachName\",\"Discipline\")\n",
    "\n",
    "# athletes_coaches.show()"
   ]
  },
  {
   "cell_type": "markdown",
   "metadata": {
    "application/vnd.databricks.v1+cell": {
     "cellMetadata": {},
     "inputWidgets": {},
     "nuid": "c1e43fa8-c025-4873-a507-45638dfb3ecc",
     "showTitle": false,
     "title": ""
    }
   },
   "source": [
    "# Save all changements"
   ]
  },
  {
   "cell_type": "code",
   "execution_count": null,
   "metadata": {
    "application/vnd.databricks.v1+cell": {
     "cellMetadata": {
      "byteLimit": 2048000,
      "rowLimit": 10000
     },
     "inputWidgets": {},
     "nuid": "96d1481d-4f11-4343-9f74-c382f6d8c298",
     "showTitle": false,
     "title": ""
    }
   },
   "outputs": [],
   "source": [
    "\n",
    "entriesgender.repartition(1).write.mode(\"overwrite\").option(\"header\",'true').csv(\"abfss://tokyo-olympics-data@{storage account name}.dfs.core.windows.net/transformed-data/entriesgender\")\n",
    "sports.repartition(1).write.mode(\"overwrite\").option(\"header\",'true').csv(\"abfss://tokyo-olympics-data@{storage account name}.dfs.core.windows.net/transformed-data//sports\")\n",
    "athletes_coaches.repartition(1).write.mode(\"overwrite\").option(\"header\",'true').csv(\"abfss://tokyo-olympics-data@{storage account name}.dfs.core.windows.net/transformed-data/athletes_coaches\")\n",
    "\n"
   ]
  }
 ],
 "metadata": {
  "application/vnd.databricks.v1+notebook": {
   "dashboards": [],
   "environmentMetadata": null,
   "language": "python",
   "notebookMetadata": {
    "pythonIndentUnit": 4
   },
   "notebookName": "tokyo-olympics-transformation",
   "widgets": {}
  },
  "language_info": {
   "name": "python"
  }
 },
 "nbformat": 4,
 "nbformat_minor": 0
}
